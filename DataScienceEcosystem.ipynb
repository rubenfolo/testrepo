{
 "cells": [
  {
   "cell_type": "markdown",
   "id": "79f62286-b37a-4d09-ab8d-77d0f2366a9c",
   "metadata": {},
   "source": [
    "# Data Science Tools and Ecosystem"
   ]
  },
  {
   "cell_type": "markdown",
   "id": "b339af4d-7444-4dc8-83e2-4ede00acc99a",
   "metadata": {},
   "source": [
    "## In this notebook, Data Science Tools and Ecosystem are summarized."
   ]
  },
  {
   "cell_type": "markdown",
   "id": "bcb0f62f-28e4-4a62-95f6-110d1ec9a324",
   "metadata": {},
   "source": [
    "**Objectives:**"
   ]
  },
  {
   "cell_type": "markdown",
   "id": "1b4ca6b2-ffcc-4ccc-ac0f-6eae094172ac",
   "metadata": {},
   "source": [
    "- Python\n",
    "- R\n",
    "- SQL"
   ]
  },
  {
   "cell_type": "markdown",
   "id": "3f6ff5df-b124-4727-81de-394c217fdc0f",
   "metadata": {},
   "source": [
    "### Some of the popular languages that Data Scienctists use are:"
   ]
  },
  {
   "cell_type": "markdown",
   "id": "90933bee-f87b-47b2-94a3-cd569dadc62d",
   "metadata": {},
   "source": [
    "1. Python\n",
    "2. R\n",
    "3. C++"
   ]
  },
  {
   "cell_type": "markdown",
   "id": "bfc20ad8-87c2-4787-94e0-0540ecaf71a1",
   "metadata": {},
   "source": [
    "### Some of the commonly used libraries used by Data Scientists include:"
   ]
  },
  {
   "cell_type": "markdown",
   "id": "47182085-7c89-4f66-9362-fd17b85aef61",
   "metadata": {},
   "source": [
    "1. Apache Spark\n",
    "2. Pandas AI\n",
    "3. TensorFlow"
   ]
  },
  {
   "cell_type": "markdown",
   "id": "07c57881-ebee-4c9e-bc3e-831096d4519b",
   "metadata": {},
   "source": [
    "### Data Science Tools"
   ]
  },
  {
   "cell_type": "markdown",
   "id": "30a4a81b-d168-4b79-bfec-e2cf398c9247",
   "metadata": {},
   "source": [
    "| Data Science Tools |\n",
    "| --- |\n",
    "| Apache Spark |\n",
    "| R Studio |\n",
    "| Tensor Flow |"
   ]
  },
  {
   "cell_type": "markdown",
   "id": "310e9a23-4308-4b9b-997c-1cac528081fc",
   "metadata": {},
   "source": [
    "### Below are a few examples of evaluating arithmetic expressions in Python"
   ]
  },
  {
   "cell_type": "code",
   "execution_count": 1,
   "id": "247c765f-e4cc-4353-a9f0-b028623b3af7",
   "metadata": {},
   "outputs": [
    {
     "data": {
      "text/plain": [
       "17"
      ]
     },
     "execution_count": 1,
     "metadata": {},
     "output_type": "execute_result"
    }
   ],
   "source": [
    "# This a simple arithmetic expression to mutiply then add integers\n",
    "(3*4)+5"
   ]
  },
  {
   "cell_type": "code",
   "execution_count": 2,
   "id": "8d04a420-cd8f-448b-a799-761817307513",
   "metadata": {},
   "outputs": [
    {
     "data": {
      "text/plain": [
       "3.3333333333333335"
      ]
     },
     "execution_count": 2,
     "metadata": {},
     "output_type": "execute_result"
    }
   ],
   "source": [
    "# This will convert 200 minutes to hours by diving by 60\n",
    "200/60"
   ]
  },
  {
   "cell_type": "markdown",
   "id": "759049bc-beee-48d3-be5d-91b9d4576f5b",
   "metadata": {},
   "source": [
    "## Author\n",
    "Rubén Fernández Losada"
   ]
  },
  {
   "cell_type": "code",
   "execution_count": null,
   "id": "e3c5b5c7-8c54-4241-b43d-74be536d0ca0",
   "metadata": {},
   "outputs": [],
   "source": []
  }
 ],
 "metadata": {
  "kernelspec": {
   "display_name": "Python 3 (ipykernel)",
   "language": "python",
   "name": "python3"
  },
  "language_info": {
   "codemirror_mode": {
    "name": "ipython",
    "version": 3
   },
   "file_extension": ".py",
   "mimetype": "text/x-python",
   "name": "python",
   "nbconvert_exporter": "python",
   "pygments_lexer": "ipython3",
   "version": "3.12.4"
  }
 },
 "nbformat": 4,
 "nbformat_minor": 5
}
